{
 "cells": [
  {
   "cell_type": "code",
   "execution_count": null,
   "metadata": {},
   "outputs": [],
   "source": [
    "from datetime import datetime"
   ]
  },
  {
   "cell_type": "code",
   "execution_count": null,
   "metadata": {},
   "outputs": [],
   "source": [
    "[datetime.now().year]"
   ]
  },
  {
   "cell_type": "code",
   "execution_count": null,
   "metadata": {},
   "outputs": [],
   "source": [
    "from datetime import datetime, timedelta\n",
    "def calculate_working_hours(in_time, out_time):\n",
    "        \"\"\"Calculate the difference between in_time and out_time in hours.\"\"\"\n",
    "        in_time_dt = datetime.strptime(in_time, '%H:%M:%S').time()\n",
    "        out_time_dt = datetime.strptime(out_time, '%H:%M:%S').time()\n",
    "        print(in_time_dt)\n",
    "        print(out_time_dt)\n",
    "\n",
    "        return out_time_dt - in_time_dt "
   ]
  },
  {
   "cell_type": "code",
   "execution_count": null,
   "metadata": {},
   "outputs": [],
   "source": [
    "def calculate_working_hours(in_time, out_time):\n",
    "    \"\"\"Calculate the difference between in_time and out_time in hours:minutes format.\"\"\"\n",
    "    in_time_dt = datetime.strptime(in_time, '%H:%M:%S').time()\n",
    "    out_time_dt = datetime.strptime(out_time, '%H:%M:%S').time()\n",
    "\n",
    "    dummy_date = datetime.now().date()  # Use a dummy date for time calculations\n",
    "\n",
    "    in_datetime = datetime.combine(dummy_date, in_time_dt)\n",
    "    out_datetime = datetime.combine(dummy_date, out_time_dt)\n",
    "    delta = out_datetime - in_datetime\n",
    "    \n",
    "    # Get total minutes\n",
    "    total_minutes = delta.total_seconds() / 60\n",
    "    \n",
    "# Convert to hours and minutes\n",
    "hours = int(total_minutes // 60)\n",
    "minutes = int(total_minutes % 60)\n",
    "    \n",
    "# Format as \"HH:MM\"\n",
    "time_format = f\"{hours:02d}:{minutes:02d}\"\n",
    "    \n",
    "return time_format"
   ]
  },
  {
   "cell_type": "code",
   "execution_count": null,
   "metadata": {},
   "outputs": [],
   "source": [
    "calculate_working_hours(\"01:30:00\",\"12:00:00\")"
   ]
  },
  {
   "cell_type": "code",
   "execution_count": null,
   "metadata": {},
   "outputs": [],
   "source": [
    "from datetime import datetime, timedelta\n",
    "\n",
    "def calculate_working_hours(in_time, out_time):\n",
    "    \"\"\"Calculate the difference between in_time and out_time in datetime format.\"\"\"\n",
    "    in_time_dt = datetime.strptime(in_time, '%H:%M:%S').time()\n",
    "    out_time_dt = datetime.strptime(out_time, '%H:%M:%S').time()\n",
    "\n",
    "    dummy_date = datetime.now().date()  # Use a dummy date for time calculations\n",
    "\n",
    "    in_datetime = datetime.combine(dummy_date, in_time_dt)\n",
    "    out_datetime = datetime.combine(dummy_date, out_time_dt)\n",
    "    delta = out_datetime - in_datetime\n",
    "    #delta = out_time_dt - in_time_dt\n",
    "    return print(delta)\n",
    "\n",
    "in_time = \"07:00:00\"\n",
    "out_time = \"14:00:00\"\n",
    "print(calculate_working_hours(in_time, out_time))\n"
   ]
  },
  {
   "cell_type": "code",
   "execution_count": null,
   "metadata": {},
   "outputs": [],
   "source": [
    "calculate_working_hours(in_time, out_time)"
   ]
  },
  {
   "cell_type": "code",
   "execution_count": null,
   "metadata": {},
   "outputs": [],
   "source": [
    "def calculate_working_hours(in_time, out_time):\n",
    "    \"\"\"Calculate the difference between in_time and out_time in datetime format.\"\"\"\n",
    "    in_time_dt = datetime.strptime(in_time, '%H:%M:%S').time()\n",
    "    out_time_dt = datetime.strptime(out_time, '%H:%M:%S').time()\n",
    "\n",
    "    dummy_date = datetime.now().date()  # Use a dummy date for time calculations\n",
    "\n",
    "    in_datetime = datetime.combine(dummy_date, in_time_dt)\n",
    "    out_datetime = datetime.combine(dummy_date, out_time_dt)\n",
    "    delta = out_datetime - in_datetime\n",
    "    hours = print(delta)\n",
    "    return hours\n"
   ]
  },
  {
   "cell_type": "code",
   "execution_count": null,
   "metadata": {},
   "outputs": [],
   "source": [
    "def calculate_working_hours(in_time, out_time):\n",
    "    \"\"\"Calculate the difference between in_time and out_time in datetime format.\"\"\"\n",
    "    in_time_dt = datetime.strptime(in_time, '%H:%M:%S').time()\n",
    "    out_time_dt = datetime.strptime(out_time, '%H:%M:%S').time()\n",
    "\n",
    "    dummy_date = datetime.now().date()  # Use a dummy date for time calculations\n",
    "\n",
    "    in_datetime = datetime.combine(dummy_date, in_time_dt)\n",
    "    out_datetime = datetime.combine(dummy_date, out_time_dt)\n",
    "    delta = out_datetime - in_datetime\n",
    "    \n",
    "    # Convert timedelta to decimal hours\n",
    "    hours = delta.total_seconds() / 3600\n",
    "    # Format to 2 decimal places\n",
    "    hours = round(hours, 2)\n",
    "    \n",
    "    # For debugging, you can still print it\n",
    "    print(f\"Time difference: {delta}, Hours: {hours}\")\n",
    "    \n",
    "    return hours"
   ]
  },
  {
   "cell_type": "code",
   "execution_count": null,
   "metadata": {},
   "outputs": [],
   "source": []
  },
  {
   "cell_type": "code",
   "execution_count": null,
   "metadata": {},
   "outputs": [],
   "source": [
    "\n",
    "def calculate_working_hours(in_time, out_time):\n",
    "    \"\"\"Calculate the difference between in_time and out_time in hours.\"\"\"\n",
    "    in_time_dt = datetime.strptime(in_time, '%H:%M:%S')\n",
    "    out_time_dt = datetime.strptime(out_time, '%H:%M:%S')\n",
    "    delta = out_time_dt - in_time_dt\n",
    "    return delta\n",
    "\n",
    "print(calculate_working_hours(\"01:00:00\",\"02:00:00\"))"
   ]
  },
  {
   "cell_type": "code",
   "execution_count": null,
   "metadata": {},
   "outputs": [],
   "source": [
    "calculate_working_hours(\"01:30:00\",\"02:00:00\")"
   ]
  },
  {
   "cell_type": "code",
   "execution_count": null,
   "metadata": {},
   "outputs": [],
   "source": [
    "datetime.strptime(\"01:30:00\", '%H:%M:%S')"
   ]
  },
  {
   "cell_type": "code",
   "execution_count": 1,
   "metadata": {},
   "outputs": [],
   "source": [
    "from datetime import datetime\n",
    "\n",
    "def calculate_working_hours(in_time, out_time):\n",
    "    \"\"\"Calculate the difference between in_time and out_time as fractional hours.\"\"\"\n",
    "    in_time_dt = datetime.strptime(in_time, '%H:%M:%S').time()\n",
    "    out_time_dt = datetime.strptime(out_time, '%H:%M:%S').time()\n",
    "\n",
    "    dummy_date = datetime.now().date()  # Use a dummy date for time calculations\n",
    "\n",
    "    in_datetime = datetime.combine(dummy_date, in_time_dt)\n",
    "    out_datetime = datetime.combine(dummy_date, out_time_dt)\n",
    "    delta = out_datetime - in_datetime\n",
    "    \n",
    "    # Convert to decimal hours\n",
    "    hours = delta.total_seconds() / 3600\n",
    "    # Format to 2 decimal places\n",
    "    hours = round(hours, 2)\n",
    "    \n",
    "    return hours"
   ]
  },
  {
   "cell_type": "code",
   "execution_count": 2,
   "metadata": {},
   "outputs": [
    {
     "data": {
      "text/plain": [
       "10.5"
      ]
     },
     "execution_count": 2,
     "metadata": {},
     "output_type": "execute_result"
    }
   ],
   "source": [
    "calculate_working_hours(\"01:30:00\",\"12:00:00\")"
   ]
  },
  {
   "cell_type": "code",
   "execution_count": null,
   "metadata": {},
   "outputs": [],
   "source": [
    "def get_attendance_status(rec):\n",
    "    \"\"\"\n",
    "    Returns attendance status based on various conditions:\n",
    "    - 'P' if IN & OUT are present and working hours >= 9:40\n",
    "    - 'LA' if IN time is 15+ minutes late (after 10:15)\n",
    "    - 'ED' if working hours < 9:40\n",
    "    - 'MIS' if only IN is present\n",
    "    - 'HLD' if it's a holiday\n",
    "    - 'WO' if it's a weekly off\n",
    "    - 'A' otherwise\n",
    "    \"\"\"\n",
    "    if rec is None:\n",
    "        # Check if it's a weekly off (Saturday/Sunday)\n",
    "        # Assuming rec contains the date or we can pass date as a parameter\n",
    "        # For now, let's assume we pass the date as an additional parameter\n",
    "        return \"A\"\n",
    "        \n",
    "    in_time = rec.get('in_time')\n",
    "    out_time = rec.get('out_time')\n",
    "    \n",
    "    # Check for holidays (you'll need a holiday list/table)\n",
    "    # For example:\n",
    "    # if is_holiday(rec.get('date')):\n",
    "    #     return \"HLD\"\n",
    "    \n",
    "    # Check for weekly off (Saturday/Sunday)\n",
    "    # Assuming rec contains the date information\n",
    "    date_obj = rec.get('date')\n",
    "    if date_obj:\n",
    "        # Check if it's Saturday (5) or Sunday (6)\n",
    "        if date_obj.weekday() >= 5:\n",
    "            return \"WO\"\n",
    "    \n",
    "    if not in_time:\n",
    "        return \"A\"\n",
    "        \n",
    "    if in_time and not out_time:\n",
    "        return \"MIS\"\n",
    "        \n",
    "    # Check for Late Arrival (LA)\n",
    "    # Convert in_time to datetime for comparison\n",
    "    in_time_dt = datetime.strptime(in_time, '%H:%M:%S').time() if isinstance(in_time, str) else in_time\n",
    "    start_time = datetime.strptime('10:00:00', '%H:%M:%S').time()  # Assuming 10:00 is the start time\n",
    "    late_threshold = datetime.strptime('10:15:00', '%H:%M:%S').time()  # 15 minutes threshold\n",
    "    \n",
    "    is_late = in_time_dt > late_threshold\n",
    "    \n",
    "    # Check for Early Departure (ED) based on working hours\n",
    "    working_hours = rec.get('working_hours')\n",
    "    min_hours = 9.40  # 9 hours and 40 minutes\n",
    "    \n",
    "    if working_hours is not None:\n",
    "        is_early_departure = working_hours < min_hours\n",
    "    else:\n",
    "        is_early_departure = False\n",
    "    \n",
    "    # Determine final status\n",
    "    if is_late:\n",
    "        return \"LA\"\n",
    "    elif is_early_departure:\n",
    "        return \"ED\"\n",
    "    elif in_time and out_time:\n",
    "        return \"P\"\n",
    "    else:\n",
    "        return \"A\""
   ]
  }
 ],
 "metadata": {
  "kernelspec": {
   "display_name": "Python 3",
   "language": "python",
   "name": "python3"
  },
  "language_info": {
   "codemirror_mode": {
    "name": "ipython",
    "version": 3
   },
   "file_extension": ".py",
   "mimetype": "text/x-python",
   "name": "python",
   "nbconvert_exporter": "python",
   "pygments_lexer": "ipython3",
   "version": "3.10.16"
  }
 },
 "nbformat": 4,
 "nbformat_minor": 2
}
