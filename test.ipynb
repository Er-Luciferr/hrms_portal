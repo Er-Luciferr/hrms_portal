{
 "cells": [
  {
   "cell_type": "markdown",
   "metadata": {},
   "source": [
    "## Color combos\n",
    "[theme]\n",
    "primaryColor=\"#222dc7\"\n",
    "backgroundColor=\"#b5829b\"\n",
    "secondaryBackgroundColor=\"#7699c1\"\n",
    "textColor=\"#544b42\"\n",
    "\n",
    "[theme]\n",
    "primaryColor=\"#ff0044\"\n",
    "backgroundColor=\"#96e287\"\n",
    "secondaryBackgroundColor=\"#b4a0c9\"\n",
    "textColor=\"#544b42\"\n",
    "\n"
   ]
  },
  {
   "cell_type": "code",
   "execution_count": 1,
   "metadata": {},
   "outputs": [],
   "source": [
    "import pandas as pd\n",
    "\n",
    "attendance_logs = pd.read_csv(\"Database\\\\attendance_logs.csv\")\n",
    "regularization_requests = pd.read_csv(\"Database\\\\regularization_requests.csv\")\n",
    "users = pd.read_csv(r\"Database\\\\users.csv\")\n",
    "# Fetch employee names and codes\n",
    "# cursor.execute(\"SELECT DISTINCT employee_code, name FROM users ORDER BY name\")\n",
    "#employees = cursor.fetchall()"
   ]
  },
  {
   "cell_type": "code",
   "execution_count": 2,
   "metadata": {},
   "outputs": [
    {
     "name": "stdout",
     "output_type": "stream",
     "text": [
      "  employee_code        date   in_time  out_time  working_hours\n",
      "0         aa001  2025-03-12  12:41:59  16:44:52           4.05\n",
      "1         aa001  2025-03-13  10:47:50  11:37:01           0.82\n",
      "2         aa002  2025-03-10  09:00:00       NaN            NaN\n",
      "3         aa002  2025-03-11  09:00:00       NaN            NaN\n",
      "4         aa002  2025-03-12  05:00:00  16:48:24           4.36\n",
      "   id employee_code        date     request_type requested_in_time  \\\n",
      "0   1         aa002  2025-03-12  Correct In-Time          05:00:00   \n",
      "1   2         aa004  2025-03-12  Correct In-Time          09:00:00   \n",
      "2   3         aa008  2025-03-12  Correct In-Time          09:00:00   \n",
      "3   4         aa003  2025-03-12  Correct In-Time          06:45:00   \n",
      "4   5         aa009  2025-03-12  Correct In-Time          08:00:00   \n",
      "\n",
      "   requested_out_time  reason    status  request_timestamp  \n",
      "0                 NaN  Test 1  Approved                NaN  \n",
      "1                 NaN      nn  Rejected                NaN  \n",
      "2                 NaN   a nna  Approved                NaN  \n",
      "3                 NaN     fsf  Approved                NaN  \n",
      "4                 NaN   nlljl       NaN                NaN  \n",
      "  employee_code password        name date_of_birth date_of_joining designation\n",
      "0         AA001    pass1       Apple    10-05-1985      15-03-2020          HR\n",
      "1         AA002   pass22      Banana    20-01-1990      10-04-2021     Trainer\n",
      "2         AA003    pass3      Cherry    22-07-1988      01-08-2019   Counselor\n",
      "3         AA004    pass4      Durian    05-09-1992      10-01-2022  Telecaller\n",
      "4         AA005    pass5  Elderberry    11-11-1989      15-12-2018     Trainer\n"
     ]
    }
   ],
   "source": [
    "print(attendance_logs.head())\n",
    "print(regularization_requests.head())\n",
    "print(users.head())"
   ]
  },
  {
   "cell_type": "code",
   "execution_count": 3,
   "metadata": {},
   "outputs": [],
   "source": [
    "from datetime import datetime\n",
    "import calendar\n",
    "today = datetime.now().date()"
   ]
  },
  {
   "cell_type": "code",
   "execution_count": 4,
   "metadata": {},
   "outputs": [
    {
     "data": {
      "text/plain": [
       "datetime.date(2025, 3, 19)"
      ]
     },
     "execution_count": 4,
     "metadata": {},
     "output_type": "execute_result"
    }
   ],
   "source": [
    "today"
   ]
  },
  {
   "cell_type": "code",
   "execution_count": 6,
   "metadata": {},
   "outputs": [
    {
     "data": {
      "text/plain": [
       "datetime.time(0, 57, 47, 260341)"
      ]
     },
     "execution_count": 6,
     "metadata": {},
     "output_type": "execute_result"
    }
   ],
   "source": [
    "datetime.now().time()"
   ]
  },
  {
   "cell_type": "code",
   "execution_count": null,
   "metadata": {},
   "outputs": [],
   "source": []
  }
 ],
 "metadata": {
  "kernelspec": {
   "display_name": "Python 3 (ipykernel)",
   "language": "python",
   "name": "python3"
  }
 },
 "nbformat": 4,
 "nbformat_minor": 2
}
